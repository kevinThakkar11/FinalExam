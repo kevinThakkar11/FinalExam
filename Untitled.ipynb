{
 "cells": [
  {
   "cell_type": "code",
   "execution_count": 5,
   "id": "05a89441",
   "metadata": {},
   "outputs": [
    {
     "name": "stdout",
     "output_type": "stream",
     "text": [
      "Welcome to the Data Analysis App\n",
      "------------------------------\n",
      "Enter the file path of the CSV file (leave empty to manually enter data): data.csv\n",
      "Analysis Results:\n",
      "--------------------\n",
      "Summary Statistics:\n",
      "              price     bedrooms    bathrooms   sqft_living      sqft_lot  \\\n",
      "count  4.600000e+03  4600.000000  4600.000000   4600.000000  4.600000e+03   \n",
      "mean   5.519630e+05     3.400870     2.160815   2139.346957  1.485252e+04   \n",
      "std    5.638347e+05     0.908848     0.783781    963.206916  3.588444e+04   \n",
      "min    0.000000e+00     0.000000     0.000000    370.000000  6.380000e+02   \n",
      "25%    3.228750e+05     3.000000     1.750000   1460.000000  5.000750e+03   \n",
      "50%    4.609435e+05     3.000000     2.250000   1980.000000  7.683000e+03   \n",
      "75%    6.549625e+05     4.000000     2.500000   2620.000000  1.100125e+04   \n",
      "max    2.659000e+07     9.000000     8.000000  13540.000000  1.074218e+06   \n",
      "\n",
      "            floors   waterfront         view    condition   sqft_above  \\\n",
      "count  4600.000000  4600.000000  4600.000000  4600.000000  4600.000000   \n",
      "mean      1.512065     0.007174     0.240652     3.451739  1827.265435   \n",
      "std       0.538288     0.084404     0.778405     0.677230   862.168977   \n",
      "min       1.000000     0.000000     0.000000     1.000000   370.000000   \n",
      "25%       1.000000     0.000000     0.000000     3.000000  1190.000000   \n",
      "50%       1.500000     0.000000     0.000000     3.000000  1590.000000   \n",
      "75%       2.000000     0.000000     0.000000     4.000000  2300.000000   \n",
      "max       3.500000     1.000000     4.000000     5.000000  9410.000000   \n",
      "\n",
      "       sqft_basement     yr_built  yr_renovated  \n",
      "count    4600.000000  4600.000000   4600.000000  \n",
      "mean      312.081522  1970.786304    808.608261  \n",
      "std       464.137228    29.731848    979.414536  \n",
      "min         0.000000  1900.000000      0.000000  \n",
      "25%         0.000000  1951.000000      0.000000  \n",
      "50%         0.000000  1976.000000      0.000000  \n",
      "75%       610.000000  1997.000000   1999.000000  \n",
      "max      4820.000000  2014.000000   2014.000000  \n",
      "\n",
      "\n",
      "Data Head:\n",
      "       price  bedrooms  bathrooms  sqft_living  sqft_lot  floors  waterfront  \\\n",
      "0   313000.0         3       1.50         1340      7912     1.5           0   \n",
      "1  2384000.0         5       2.50         3650      9050     2.0           0   \n",
      "2   342000.0         3       2.00         1930     11947     1.0           0   \n",
      "3   420000.0         3       2.25         2000      8030     1.0           0   \n",
      "4   550000.0         4       2.50         1940     10500     1.0           0   \n",
      "\n",
      "   view  condition  sqft_above  sqft_basement  yr_built  yr_renovated  \n",
      "0     0          3        1340              0      1955          2005  \n",
      "1     4          5        3370            280      1921             0  \n",
      "2     0          4        1930              0      1966             0  \n",
      "3     0          4        1000           1000      1963             0  \n",
      "4     0          4        1140            800      1976          1992  \n",
      "Visualization Charts:\n",
      "--------------------\n"
     ]
    },
    {
     "data": {
      "image/png": "[encoded data removed]",
      "text/plain": [
       "<Figure size 432x288 with 1 Axes>"
      ]
     },
     "metadata": {
      "needs_background": "light"
     },
     "output_type": "display_data"
    },
    {
     "data": {
      "image/png": "[encoded data removed]",
      "text/plain": [
       "<Figure size 432x288 with 1 Axes>"
      ]
     },
     "metadata": {
      "needs_background": "light"
     },
     "output_type": "display_data"
    },
    {
     "data": {
      "image/png": "[encoded data removed]",
      "text/plain": [
       "<Figure size 720x432 with 1 Axes>"
      ]
     },
     "metadata": {
      "needs_background": "light"
     },
     "output_type": "display_data"
    }
   ],
   "source": [
    "import pandas as pd\n",
    "import matplotlib.pyplot as plt\n",
    "import seaborn as sns\n",
    "import random\n",
    "\n",
    "\n",
    "def upload_data():\n",
    "    file_path = input(\"Enter the file path of the CSV file (leave empty to manually enter data): \")\n",
    "    if file_path:\n",
    "        try:\n",
    "            data = pd.read_csv(file_path)\n",
    "        except FileNotFoundError:\n",
    "            print(\"File not found. Please try again.\")\n",
    "            return upload_data()\n",
    "    else:\n",
    "        data = enter_data_manually()\n",
    "    return data\n",
    "\n",
    "def enter_data_manually():\n",
    "    print(\"Enter your data below (press Enter after each row, type 'done' when finished):\")\n",
    "    data_rows = []\n",
    "    headers = input(\"Enter column headers separated by commas: \").split(',')\n",
    "    while True:\n",
    "        row = input().split(',')\n",
    "        if row == ['done']:\n",
    "            break\n",
    "        if len(row) != len(headers):\n",
    "            print(\"Incorrect number of columns. Please enter again.\")\n",
    "            continue\n",
    "        data_rows.append(row)\n",
    "    data = pd.DataFrame(data_rows, columns=headers)\n",
    "    return data\n",
    "\n",
    "def analyze_data(data):\n",
    "    print(\"Analysis Results:\")\n",
    "    print(\"-\"*20)\n",
    "    print(\"Summary Statistics:\")\n",
    "    print(data.describe())\n",
    "    print(\"\\n\")\n",
    "    print(\"Data Head:\")\n",
    "    print(data.head())\n",
    "\n",
    "def visualize_data(data):\n",
    "    print(\"Visualization Charts:\")\n",
    "    print(\"-\"*20)\n",
    "    scatter_plot(data)\n",
    "    histogram(data)\n",
    "    bar_chart(data)\n",
    "\n",
    "def scatter_plot(data):\n",
    "    random_number1 = random.randint(0, 12)\n",
    "    random_number2 = random.randint(0, 12)\n",
    "\n",
    "    # Ensure the two numbers are different\n",
    "    while random_number2 == random_number1:\n",
    "        random_number2 = random.randint(0, 12)\n",
    "        \n",
    "    x_column = data.columns[random_number1]\n",
    "    y_column = data.columns[random_number2]\n",
    "    data.plot.scatter(x=x_column, y=y_column)\n",
    "    plt.title(\"Scatter Plot\")\n",
    "    plt.show()\n",
    "\n",
    "def histogram(data):\n",
    "    random_number1 = random.randint(0, 12)\n",
    "    column = data.columns[random_number1]\n",
    "    data[column].astype(float).plot.hist()\n",
    "    plt.title(\"Histogram\")\n",
    "    plt.show()\n",
    "    \n",
    "def bar_chart(data):\n",
    "    \"\"\"\n",
    "    Generate a bar chart from the given DataFrame.\n",
    "\n",
    "    Parameters:\n",
    "        data (DataFrame): The DataFrame containing the data.\n",
    "        x_column (str): The column name for the x-axis.\n",
    "        y_column (str): The column name for the y-axis.\n",
    "        title (str): The title of the bar chart.\n",
    "\n",
    "    Returns:\n",
    "        None\n",
    "    \"\"\"\n",
    "    plt.figure(figsize=(10, 6))\n",
    "    plt.bar(data.index, data[\"price\"])\n",
    "    plt.title(\"title\")\n",
    "    plt.xlabel(\"x_column\")\n",
    "    plt.ylabel(\"y_column\")\n",
    "    plt.xticks(rotation=45)  # Rotate x-axis labels for better readability\n",
    "    plt.tight_layout()\n",
    "    plt.show()\n",
    "\n",
    "\n",
    "def main():\n",
    "    print(\"Welcome to the Data Analysis App\")\n",
    "    print(\"-\"*30)\n",
    "    data = upload_data()\n",
    "    analyze_data(data)\n",
    "    visualize_data(data)\n",
    "    \n",
    "    \n",
    "if __name__ == \"__main__\":\n",
    "    main()\n"
   ]
  },
  {
   "cell_type": "code",
   "execution_count": null,
   "id": "ff4cbb38",
   "metadata": {},
   "outputs": [],
   "source": []
  }
 ],
 "metadata": {
  "kernelspec": {
   "display_name": "Python 3 (ipykernel)",
   "language": "python",
   "name": "python3"
  },
  "language_info": {
   "codemirror_mode": {
    "name": "ipython",
    "version": 3
   },
   "file_extension": ".py",
   "mimetype": "text/x-python",
   "name": "python",
   "nbconvert_exporter": "python",
   "pygments_lexer": "ipython3",
   "version": "3.9.7"
  }
 },
 "nbformat": 4,
 "nbformat_minor": 5
}
